{
 "cells": [
  {
   "cell_type": "markdown",
   "id": "d4666c7c-3d04-4a07-b993-e69056d3f72d",
   "metadata": {},
   "source": [
    "# Practica 2: Sistemas Multimedia\n",
    "## Jose Juan Bastida Perez"
   ]
  },
  {
   "cell_type": "markdown",
   "id": "b69167ec-282f-40fe-9163-06d02b11ae57",
   "metadata": {},
   "source": [
    "\n",
    "**Importamos las librerias necesarias**"
   ]
  },
  {
   "cell_type": "markdown",
   "id": "fe4c22a2-d94d-4fcb-9f01-416eafeb1cba",
   "metadata": {},
   "source": [
    "Pasos previos:\n",
    "* Clonamos el repositorio con el comando git clone\n",
    "* Creamos el entorno de conda con el comando conda create --name= seguido del nombre del archivo que vamos a usar para definir el entorno y lo activamos\n",
    "* Una vez esta activado podemos lanzar jupyter-lab y creamos nuestro notebook"
   ]
  },
  {
   "cell_type": "code",
   "execution_count": null,
   "id": "9d5af1c7-da62-4ea1-b919-3ddb7ed50ad1",
   "metadata": {},
   "outputs": [],
   "source": [
    "from scipy.io import wavfile\n",
    "import IPython\n",
    "import os\n",
    "import numpy as np"
   ]
  },
  {
   "cell_type": "markdown",
   "id": "2f46b89d-6188-466d-8b15-d9ae2eeb7b11",
   "metadata": {},
   "source": [
    "**Ahora tenemos que definir donde guardaremos los audios o de donde los cogeremos**\n"
   ]
  },
  {
   "cell_type": "code",
   "execution_count": null,
   "id": "260eee17-92e5-4786-a770-b7ce8fa9716e",
   "metadata": {},
   "outputs": [],
   "source": [
    "cwd = os.getcwd()  #guardamos en cwd la ruta actual\n",
    "audio_input_path = os.path.join(cwd, os.path.join('audio', 'ejemplos'))  \n",
    "audio_output_path = os.path.join(cwd, os.path.join('audio', 'output'))\n",
    "\n",
    "print(f'Directorio con los audios de entrada: {audio_input_path}')\n",
    "print(f'Directorio donde guardaremos los audios generados: {audio_output_path}\\n')"
   ]
  },
  {
   "cell_type": "markdown",
   "id": "7974eae4-f31e-471f-90c9-7137475939d9",
   "metadata": {},
   "source": [
    "**Ahora vamos a cargar un archivo de audio de la carpeta ejemplos**\n"
   ]
  },
  {
   "cell_type": "code",
   "execution_count": null,
   "id": "fe671aba-1d74-4063-a129-1b8da2f86065",
   "metadata": {},
   "outputs": [],
   "source": [
    "\n",
    "filename = os.path.join(audio_input_path,'breaking_bad.wav')\n",
    "sample_rate, audio_data = wavfile.read(filename)  #en sample rate se guardara la frecuencia y en audio data los datos de la cancion\n",
    "print(f'Frecuencia de muestreo (sample rate): {sample_rate/1000} kHz')"
   ]
  },
  {
   "cell_type": "markdown",
   "id": "a6220c2f-10ff-4419-bd9c-4ddaecc04551",
   "metadata": {},
   "source": [
    "**Mostramos la frecuencia de muestreo y en audio data tenemos la información de la cancion**\n",
    "\n",
    "\n",
    "\n"
   ]
  },
  {
   "cell_type": "markdown",
   "id": "db111d0a-e63d-49a8-8d38-94d5539f8de9",
   "metadata": {},
   "source": [
    " \n",
    "\n",
    "\n",
    "**Para reproducirlo usamos la funcion display.Audio donde es necesario pasarle el audio data y la frecuencia de muestreo**"
   ]
  },
  {
   "cell_type": "code",
   "execution_count": null,
   "id": "1dfa9d3b-1d57-4c89-b482-7fb4333c97bb",
   "metadata": {},
   "outputs": [],
   "source": [
    "IPython.display.Audio(audio_data.T, rate=sample_rate) # .T se pasa únicamente si es audio estéreo."
   ]
  },
  {
   "cell_type": "markdown",
   "id": "96ae8225-8e70-4aaf-87ed-0b65f034b0a0",
   "metadata": {},
   "source": [
    "**A continuacion vamos a mostrar la informacion principal de la onda, la cual la tenemos en audio_data**\n"
   ]
  },
  {
   "cell_type": "code",
   "execution_count": null,
   "id": "2af2618d-0bdb-43d0-9422-a9413d278c52",
   "metadata": {},
   "outputs": [],
   "source": [
    "print('Datos de audio (estereo):')\n",
    "print(f'- Tamaño:     {audio_data.shape}') #aqui se enseña el numero de muestras y el numero de canales\n",
    "print(f'- 1º canal:   {audio_data[:10, 0]}...') #aqui mostramos 5 elementos del primer canal\n",
    "print(f'- 2º canal:   {audio_data[:10, 1]}...') #aqui mostramos 5 elementos del primer canal\n",
    "print(f'- Resolucion: {type(audio_data[0,0])}\\n') #mostramos el tipo de dato"
   ]
  },
  {
   "cell_type": "markdown",
   "id": "e13470ea-3cc8-4310-8037-347675b13a6a",
   "metadata": {},
   "source": [
    "**Para pasar un audio a mono, lo que tendriamos que hacer seria juntar los sonidos en un mismo canal, por lo tanto calculamos la media de ambos canales**\n"
   ]
  },
  {
   "cell_type": "code",
   "execution_count": null,
   "id": "1f1d8f79-ebeb-4282-938a-1519a43f124c",
   "metadata": {},
   "outputs": [],
   "source": [
    "\n",
    "# Convertimos a mono mediante la media por canal (simplificacion).\n",
    "new_data_mono = audio_data.mean(axis=1)  # Se hace la media de dos muestras, de ambos canales\n",
    "print('Nuevos datos de audio (mono):')\n",
    "print(f'- Nuevo tamaño: {new_data_mono.shape}')  #aqui se enseña el numero de muestras y el numero de canales (en este caso solo hay 1)\n",
    "print(f'- Canal unico:  {new_data_mono[:5]}...') #muestra 5 elementos del canal unico\n",
    "\n",
    "# Mantenemos la misma resolucion que antes y la mostramos para comprobar que este correcta.\n",
    "new_data_mono = new_data_mono.astype(np.int16)\n",
    "print(f'- Resolucion:   {type(new_data_mono[0])}\\n')"
   ]
  },
  {
   "cell_type": "markdown",
   "id": "688153f5-45cc-4bfd-a775-aa6c693b2e20",
   "metadata": {},
   "source": [
    "**Ahora procedemos a guardar el archivo en la ruta que nos indica audio_output_path**"
   ]
  },
  {
   "cell_type": "code",
   "execution_count": null,
   "id": "61621f81-bf9c-408c-90e6-17253fba39d6",
   "metadata": {},
   "outputs": [],
   "source": [
    "# Guardamos el archivo mono a un fichero de tipo wav.\n",
    "wavfile.write(\n",
    "    filename=os.path.join(audio_output_path, 'ejemplo_mono.wav'),\n",
    "    rate=sample_rate,\n",
    "    data=new_data_mono\n",
    ")"
   ]
  },
  {
   "cell_type": "markdown",
   "id": "612fe4ac-3dfd-41c9-a2eb-0a0312721844",
   "metadata": {},
   "source": [
    "**Volvemos a escucharlo**"
   ]
  },
  {
   "cell_type": "code",
   "execution_count": null,
   "id": "0964e075-deb2-46ad-9208-e03dedc76661",
   "metadata": {},
   "outputs": [],
   "source": [
    "IPython.display.Audio(new_data_mono, rate=sample_rate)"
   ]
  },
  {
   "cell_type": "markdown",
   "id": "4003fd52-7a0e-4986-a889-d42e7d30ad45",
   "metadata": {},
   "source": [
    "**Grafica**"
   ]
  },
  {
   "cell_type": "code",
   "execution_count": null,
   "id": "4dc0b2ab-a689-4485-9221-90b5ca606feb",
   "metadata": {},
   "outputs": [],
   "source": [
    "import matplotlib.pyplot as plt\n",
    "import numpy as np\n",
    "\n",
    "# Cargar datos de audio estéreo y mono (asumiendo que ya has cargado los datos)\n",
    "# audio_data_stereo y audio_data_mono son los arrays NumPy que contienen los datos de audio\n",
    "\n",
    "# Configuración del tamaño de la figura\n",
    "plt.figure(figsize=(12, 6))\n",
    "\n",
    "# Graficar audio estéreo\n",
    "plt.subplot(2, 1, 1)  # Configurar subplot para el audio estéreo\n",
    "plt.plot(np.arange(len(audio_data)) / sample_rate, audio_data[:, 0], label='Canal izquierdo')\n",
    "plt.plot(np.arange(len(audio_data)) / sample_rate, audio_data[:, 1], label='Canal derecho')\n",
    "plt.xlabel('Tiempo (s)')\n",
    "plt.ylabel('Amplitud')\n",
    "plt.title('Audio Estéreo')\n",
    "plt.legend()\n",
    "\n",
    "# Graficar audio mono\n",
    "plt.subplot(2, 1, 2)  # Configurar subplot para el audio mono\n",
    "plt.plot(np.arange(len(new_data_mono)) / sample_rate, new_data_mono, color='red')\n",
    "plt.xlabel('Tiempo (s)')\n",
    "plt.ylabel('Amplitud')\n",
    "plt.title('Audio Mono')\n",
    "\n",
    "# Ajustar diseño y mostrar la gráfica\n",
    "plt.tight_layout()\n",
    "plt.show()\n"
   ]
  },
  {
   "cell_type": "markdown",
   "id": "edf49fa3-1f7d-4630-8035-ad3284ebe414",
   "metadata": {},
   "source": [
    "**La principal diferencia entre el sonido en estereo se reparte entre los dos canales de sonido, mientras que el sonido en mono solo va por un canal.**"
   ]
  }
 ],
 "metadata": {
  "kernelspec": {
   "display_name": "condita",
   "language": "python",
   "name": "condita"
  },
  "language_info": {
   "codemirror_mode": {
    "name": "ipython",
    "version": 3
   },
   "file_extension": ".py",
   "mimetype": "text/x-python",
   "name": "python",
   "nbconvert_exporter": "python",
   "pygments_lexer": "ipython3",
   "version": "3.10.12"
  }
 },
 "nbformat": 4,
 "nbformat_minor": 5
}
